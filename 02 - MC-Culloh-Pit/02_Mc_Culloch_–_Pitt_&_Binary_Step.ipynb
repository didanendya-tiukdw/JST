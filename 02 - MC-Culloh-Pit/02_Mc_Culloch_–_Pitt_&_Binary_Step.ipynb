{
  "nbformat": 4,
  "nbformat_minor": 0,
  "metadata": {
    "colab": {
      "provenance": []
    },
    "kernelspec": {
      "name": "python3",
      "display_name": "Python 3"
    },
    "language_info": {
      "name": "python"
    }
  },
  "cells": [
    {
      "cell_type": "markdown",
      "source": [
        "**Mc-Culloch – Pitt & Binary Step**"
      ],
      "metadata": {
        "id": "UGerrbcyM-86"
      }
    },
    {
      "cell_type": "code",
      "execution_count": null,
      "metadata": {
        "colab": {
          "base_uri": "https://localhost:8080/"
        },
        "id": "7aGfvAkmM6Bm",
        "outputId": "2417809f-d032-4e8b-d2f0-8b5c2a6e9a7b"
      },
      "outputs": [
        {
          "output_type": "stream",
          "name": "stdout",
          "text": [
            "Nilai S: 0.8\n",
            "Nilai u (S - q): 0.20000000000000007\n",
            "Output y: 1\n"
          ]
        }
      ],
      "source": [
        "# Nilai input\n",
        "x1, x2, x3, x4 = 1, 0, 1, 1\n",
        "\n",
        "# Bobot sinaptik\n",
        "w1, w2, w3, w4 = 0.2, 0.4, 0.1, 0.5\n",
        "\n",
        "# Bias\n",
        "q = 0.6\n",
        "\n",
        "# Menghitung nilai S (net input)\n",
        "S = (x1 * w1) + (x2 * w2) + (x3 * w3) + (x4 * w4)\n",
        "\n",
        "# Menghitung nilai u setelah dikurangi bias\n",
        "u = S - q\n",
        "\n",
        "# Fungsi aktivasi Binary Step Function\n",
        "def binary_step(u):\n",
        "    return 1 if u >= 0 else 0\n",
        "\n",
        "# Menghitung output neuron\n",
        "y = binary_step(u)\n",
        "\n",
        "# Menampilkan hasil\n",
        "print(f\"Nilai S: {S}\")\n",
        "print(f\"Nilai u (S - q): {u}\")\n",
        "print(f\"Output y: {y}\")\n"
      ]
    }
  ]
}